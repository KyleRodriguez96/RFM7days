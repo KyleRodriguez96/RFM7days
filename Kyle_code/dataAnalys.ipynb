{
 "cells": [
  {
   "cell_type": "code",
   "execution_count": 1,
   "metadata": {},
   "outputs": [],
   "source": [
    "import sys\n",
    "import sklearn\n",
    "import numpy as np\n",
    "import os\n",
    "import pandas as pd\n",
    "\n",
    "%matplotlib inline\n",
    "import matplotlib as mpl\n",
    "import matplotlib.pyplot as plt\n",
    "mpl.rc('axes', labelsize=14)\n",
    "mpl.rc('xtick', labelsize=12)\n",
    "mpl.rc('ytick', labelsize=12)\n",
    "import seaborn as sn"
   ]
  },
  {
   "cell_type": "code",
   "execution_count": 2,
   "metadata": {},
   "outputs": [],
   "source": [
    "csv_file1 = \"C:/Users/rodri/Desktop/NCFS2/ML/project/data/demographics.csv\"\n",
    "demos = pd.read_csv(csv_file1,sep=',',encoding='latin-1')\n",
    "\n",
    "csv_file2 = \"C:/Users/rodri/Desktop/NCFS2/ML/project/data/transactions.csv\"\n",
    "trans = pd.read_csv(csv_file2,sep=',',encoding='latin-1')"
   ]
  },
  {
   "cell_type": "markdown",
   "metadata": {},
   "source": [
    "# Looking At Demographics"
   ]
  },
  {
   "cell_type": "code",
   "execution_count": 3,
   "metadata": {},
   "outputs": [
    {
     "data": {
      "text/html": [
       "<div>\n",
       "<style scoped>\n",
       "    .dataframe tbody tr th:only-of-type {\n",
       "        vertical-align: middle;\n",
       "    }\n",
       "\n",
       "    .dataframe tbody tr th {\n",
       "        vertical-align: top;\n",
       "    }\n",
       "\n",
       "    .dataframe thead th {\n",
       "        text-align: right;\n",
       "    }\n",
       "</style>\n",
       "<table border=\"1\" class=\"dataframe\">\n",
       "  <thead>\n",
       "    <tr style=\"text-align: right;\">\n",
       "      <th></th>\n",
       "      <th>customer_id</th>\n",
       "      <th>cust_main_branch</th>\n",
       "      <th>branch_loc_X</th>\n",
       "      <th>branch_loc_Y</th>\n",
       "      <th>cust_home_loc_X</th>\n",
       "      <th>cust_home_loc_Y</th>\n",
       "      <th>cust_work_loc_X</th>\n",
       "      <th>cust_work_loc_Y</th>\n",
       "      <th>cust_income_bracket</th>\n",
       "      <th>cust_age</th>\n",
       "      <th>...</th>\n",
       "      <th>may_very_late</th>\n",
       "      <th>may_extremely_late</th>\n",
       "      <th>may_followup</th>\n",
       "      <th>missed_payment_jun_                  .</th>\n",
       "      <th>jun_none</th>\n",
       "      <th>jun_little_late</th>\n",
       "      <th>jun_late</th>\n",
       "      <th>jun_very_late</th>\n",
       "      <th>jun_extremely_late</th>\n",
       "      <th>jun_followup</th>\n",
       "    </tr>\n",
       "  </thead>\n",
       "  <tbody>\n",
       "    <tr>\n",
       "      <th>0</th>\n",
       "      <td>25139695</td>\n",
       "      <td>2</td>\n",
       "      <td>36.991388</td>\n",
       "      <td>35.325423</td>\n",
       "      <td>36.971366</td>\n",
       "      <td>35.362328</td>\n",
       "      <td>41.029810</td>\n",
       "      <td>29.152450</td>\n",
       "      <td>2500.0</td>\n",
       "      <td>55</td>\n",
       "      <td>...</td>\n",
       "      <td>1.0</td>\n",
       "      <td>0.0</td>\n",
       "      <td>0.0</td>\n",
       "      <td>0.0</td>\n",
       "      <td>1.0</td>\n",
       "      <td>0.0</td>\n",
       "      <td>0.0</td>\n",
       "      <td>0.0</td>\n",
       "      <td>0.0</td>\n",
       "      <td>0.0</td>\n",
       "    </tr>\n",
       "    <tr>\n",
       "      <th>1</th>\n",
       "      <td>21213035</td>\n",
       "      <td>2</td>\n",
       "      <td>36.991388</td>\n",
       "      <td>35.325423</td>\n",
       "      <td>37.010670</td>\n",
       "      <td>35.369540</td>\n",
       "      <td>41.070440</td>\n",
       "      <td>28.989410</td>\n",
       "      <td>2500.0</td>\n",
       "      <td>24</td>\n",
       "      <td>...</td>\n",
       "      <td>0.0</td>\n",
       "      <td>0.0</td>\n",
       "      <td>0.0</td>\n",
       "      <td>0.0</td>\n",
       "      <td>0.0</td>\n",
       "      <td>1.0</td>\n",
       "      <td>0.0</td>\n",
       "      <td>0.0</td>\n",
       "      <td>0.0</td>\n",
       "      <td>0.0</td>\n",
       "    </tr>\n",
       "    <tr>\n",
       "      <th>2</th>\n",
       "      <td>21242221</td>\n",
       "      <td>2</td>\n",
       "      <td>36.991388</td>\n",
       "      <td>35.325423</td>\n",
       "      <td>40.920454</td>\n",
       "      <td>29.187872</td>\n",
       "      <td>36.995320</td>\n",
       "      <td>35.274170</td>\n",
       "      <td>1200.0</td>\n",
       "      <td>26</td>\n",
       "      <td>...</td>\n",
       "      <td>0.0</td>\n",
       "      <td>0.0</td>\n",
       "      <td>1.0</td>\n",
       "      <td>0.0</td>\n",
       "      <td>0.0</td>\n",
       "      <td>0.0</td>\n",
       "      <td>0.0</td>\n",
       "      <td>0.0</td>\n",
       "      <td>0.0</td>\n",
       "      <td>1.0</td>\n",
       "    </tr>\n",
       "    <tr>\n",
       "      <th>3</th>\n",
       "      <td>23187800</td>\n",
       "      <td>2</td>\n",
       "      <td>36.991388</td>\n",
       "      <td>35.325423</td>\n",
       "      <td>41.100502</td>\n",
       "      <td>28.892116</td>\n",
       "      <td>41.090251</td>\n",
       "      <td>28.896666</td>\n",
       "      <td>850.0</td>\n",
       "      <td>39</td>\n",
       "      <td>...</td>\n",
       "      <td>0.0</td>\n",
       "      <td>0.0</td>\n",
       "      <td>0.0</td>\n",
       "      <td>0.0</td>\n",
       "      <td>1.0</td>\n",
       "      <td>0.0</td>\n",
       "      <td>0.0</td>\n",
       "      <td>0.0</td>\n",
       "      <td>0.0</td>\n",
       "      <td>0.0</td>\n",
       "    </tr>\n",
       "    <tr>\n",
       "      <th>4</th>\n",
       "      <td>16400475</td>\n",
       "      <td>2</td>\n",
       "      <td>36.991388</td>\n",
       "      <td>35.325423</td>\n",
       "      <td>41.008290</td>\n",
       "      <td>29.083431</td>\n",
       "      <td>40.984750</td>\n",
       "      <td>29.166130</td>\n",
       "      <td>NaN</td>\n",
       "      <td>45</td>\n",
       "      <td>...</td>\n",
       "      <td>0.0</td>\n",
       "      <td>0.0</td>\n",
       "      <td>1.0</td>\n",
       "      <td>0.0</td>\n",
       "      <td>0.0</td>\n",
       "      <td>0.0</td>\n",
       "      <td>0.0</td>\n",
       "      <td>0.0</td>\n",
       "      <td>0.0</td>\n",
       "      <td>1.0</td>\n",
       "    </tr>\n",
       "  </tbody>\n",
       "</table>\n",
       "<p>5 rows × 130 columns</p>\n",
       "</div>"
      ],
      "text/plain": [
       "   customer_id  cust_main_branch  branch_loc_X  branch_loc_Y  cust_home_loc_X  \\\n",
       "0     25139695                 2     36.991388     35.325423        36.971366   \n",
       "1     21213035                 2     36.991388     35.325423        37.010670   \n",
       "2     21242221                 2     36.991388     35.325423        40.920454   \n",
       "3     23187800                 2     36.991388     35.325423        41.100502   \n",
       "4     16400475                 2     36.991388     35.325423        41.008290   \n",
       "\n",
       "   cust_home_loc_Y  cust_work_loc_X  cust_work_loc_Y  cust_income_bracket  \\\n",
       "0        35.362328        41.029810        29.152450               2500.0   \n",
       "1        35.369540        41.070440        28.989410               2500.0   \n",
       "2        29.187872        36.995320        35.274170               1200.0   \n",
       "3        28.892116        41.090251        28.896666                850.0   \n",
       "4        29.083431        40.984750        29.166130                  NaN   \n",
       "\n",
       "   cust_age  ...  may_very_late  may_extremely_late  may_followup  \\\n",
       "0        55  ...            1.0                 0.0           0.0   \n",
       "1        24  ...            0.0                 0.0           0.0   \n",
       "2        26  ...            0.0                 0.0           1.0   \n",
       "3        39  ...            0.0                 0.0           0.0   \n",
       "4        45  ...            0.0                 0.0           1.0   \n",
       "\n",
       "   missed_payment_jun_                  .  jun_none  jun_little_late  \\\n",
       "0                                     0.0       1.0              0.0   \n",
       "1                                     0.0       0.0              1.0   \n",
       "2                                     0.0       0.0              0.0   \n",
       "3                                     0.0       1.0              0.0   \n",
       "4                                     0.0       0.0              0.0   \n",
       "\n",
       "   jun_late  jun_very_late  jun_extremely_late  jun_followup  \n",
       "0       0.0            0.0                 0.0           0.0  \n",
       "1       0.0            0.0                 0.0           0.0  \n",
       "2       0.0            0.0                 0.0           1.0  \n",
       "3       0.0            0.0                 0.0           0.0  \n",
       "4       0.0            0.0                 0.0           1.0  \n",
       "\n",
       "[5 rows x 130 columns]"
      ]
     },
     "execution_count": 3,
     "metadata": {},
     "output_type": "execute_result"
    }
   ],
   "source": [
    "demos.head()"
   ]
  },
  {
   "cell_type": "code",
   "execution_count": 12,
   "metadata": {},
   "outputs": [],
   "source": [
    "anyna = demos.isna().any()"
   ]
  },
  {
   "cell_type": "code",
   "execution_count": 25,
   "metadata": {},
   "outputs": [
    {
     "ename": "SyntaxError",
     "evalue": "invalid syntax (Temp/ipykernel_8012/424432558.py, line 1)",
     "output_type": "error",
     "traceback": [
      "\u001b[1;36m  File \u001b[1;32m\"C:\\Users\\rodri\\AppData\\Local\\Temp/ipykernel_8012/424432558.py\"\u001b[1;36m, line \u001b[1;32m1\u001b[0m\n\u001b[1;33m    demos['cust_age_wbank'].isna().sum()/demos['cust_age_wbank'].sum()/\u001b[0m\n\u001b[1;37m                                                                       ^\u001b[0m\n\u001b[1;31mSyntaxError\u001b[0m\u001b[1;31m:\u001b[0m invalid syntax\n"
     ]
    }
   ],
   "source": [
    "demos['cust_age_wbank'].isna().sum()/demos['cust_age_wbank'].sum()"
   ]
  },
  {
   "cell_type": "markdown",
   "metadata": {},
   "source": [
    "After doing all the calculations of NA values we can just drop them since there is not many."
   ]
  },
  {
   "cell_type": "code",
   "execution_count": 24,
   "metadata": {},
   "outputs": [],
   "source": [
    "demos = demos.dropna()"
   ]
  },
  {
   "cell_type": "code",
   "execution_count": 26,
   "metadata": {},
   "outputs": [],
   "source": [
    "anyna = demos.isna().any()"
   ]
  },
  {
   "cell_type": "markdown",
   "metadata": {},
   "source": [
    "My only issue right now is how big this all is so I'm gonna do some demesional reduction."
   ]
  },
  {
   "cell_type": "code",
   "execution_count": 41,
   "metadata": {},
   "outputs": [
    {
     "data": {
      "text/plain": [
       "4.696766482190248e+18"
      ]
     },
     "execution_count": 41,
     "metadata": {},
     "output_type": "execute_result"
    }
   ],
   "source": [
    "from sklearn.cluster import KMeans\n",
    "\n",
    "X = demos.to_numpy()\n",
    "kmeans_per_k = [KMeans(n_clusters=k, random_state=42).fit(X)\n",
    "                for k in range(1, 10)]\n",
    "inertias = [model.inertia_ for model in kmeans_per_k]\n",
    "max(inertias)"
   ]
  },
  {
   "cell_type": "code",
   "execution_count": 42,
   "metadata": {},
   "outputs": [
    {
     "data": {
      "image/png": "[encoded data removed]",
      "text/plain": [
       "<Figure size 576x252 with 1 Axes>"
      ]
     },
     "metadata": {
      "needs_background": "light"
     },
     "output_type": "display_data"
    }
   ],
   "source": [
    "plt.figure(figsize=(8, 3.5))\n",
    "plt.plot(range(1, 10), inertias, \"bo-\")\n",
    "plt.xlabel(\"$k$\", fontsize=14)\n",
    "plt.ylabel(\"Inertia\", fontsize=14)\n",
    "plt.axis([1, 10.5,10 , 4.696766482190248e+18])\n",
    "plt.show()"
   ]
  },
  {
   "cell_type": "code",
   "execution_count": 39,
   "metadata": {},
   "outputs": [
    {
     "name": "stdout",
     "output_type": "stream",
     "text": [
      "[1 0 0 ... 1 3 1]\n",
      "3.056321765431808e+17\n"
     ]
    }
   ],
   "source": [
    "k=4\n",
    "kmeans = KMeans(n_clusters=k, random_state=42)\n",
    "kmeans.fit_predict(X)\n",
    "print(kmeans.labels_)\n",
    "print(kmeans.inertia_)"
   ]
  },
  {
   "cell_type": "markdown",
   "metadata": {},
   "source": [
    "This looks good for now and I want to move on to the transaction data. We may need/want to just drop the late payment cols and try and merge the data together. "
   ]
  },
  {
   "cell_type": "markdown",
   "metadata": {},
   "source": [
    "# Transactions"
   ]
  },
  {
   "cell_type": "code",
   "execution_count": 53,
   "metadata": {},
   "outputs": [
    {
     "data": {
      "text/html": [
       "<div>\n",
       "<style scoped>\n",
       "    .dataframe tbody tr th:only-of-type {\n",
       "        vertical-align: middle;\n",
       "    }\n",
       "\n",
       "    .dataframe tbody tr th {\n",
       "        vertical-align: top;\n",
       "    }\n",
       "\n",
       "    .dataframe thead th {\n",
       "        text-align: right;\n",
       "    }\n",
       "</style>\n",
       "<table border=\"1\" class=\"dataframe\">\n",
       "  <thead>\n",
       "    <tr style=\"text-align: right;\">\n",
       "      <th></th>\n",
       "      <th>customer_id</th>\n",
       "      <th>Trans_date</th>\n",
       "      <th>Trans_time</th>\n",
       "      <th>Trans_tot_amount</th>\n",
       "      <th>merchant_id</th>\n",
       "      <th>Online_payment</th>\n",
       "      <th>Merch_loc_X</th>\n",
       "      <th>Merch_loc_Y</th>\n",
       "      <th>Spending_enc</th>\n",
       "      <th>Trans_type_AV</th>\n",
       "      <th>Trans_type_nan</th>\n",
       "      <th>Trans_currency_AMERIKAN_DOLARI</th>\n",
       "      <th>Trans_currency_EURO</th>\n",
       "      <th>Trans_currency_TURK_LIRASI</th>\n",
       "    </tr>\n",
       "  </thead>\n",
       "  <tbody>\n",
       "    <tr>\n",
       "      <th>5604796</th>\n",
       "      <td>14490698</td>\n",
       "      <td>14FEB2015:00:00:00</td>\n",
       "      <td>13:09:13</td>\n",
       "      <td>20.0</td>\n",
       "      <td>27447333</td>\n",
       "      <td>0</td>\n",
       "      <td>40.98648</td>\n",
       "      <td>28.78267</td>\n",
       "      <td>31</td>\n",
       "      <td>1.0</td>\n",
       "      <td>0.0</td>\n",
       "      <td>0.0</td>\n",
       "      <td>0.0</td>\n",
       "      <td>1.0</td>\n",
       "    </tr>\n",
       "    <tr>\n",
       "      <th>5604797</th>\n",
       "      <td>18918853</td>\n",
       "      <td>07NOV2014:00:00:00</td>\n",
       "      <td>13:48:10</td>\n",
       "      <td>390.0</td>\n",
       "      <td>27447333</td>\n",
       "      <td>0</td>\n",
       "      <td>40.98648</td>\n",
       "      <td>28.78267</td>\n",
       "      <td>31</td>\n",
       "      <td>1.0</td>\n",
       "      <td>0.0</td>\n",
       "      <td>0.0</td>\n",
       "      <td>0.0</td>\n",
       "      <td>1.0</td>\n",
       "    </tr>\n",
       "    <tr>\n",
       "      <th>5604798</th>\n",
       "      <td>18918853</td>\n",
       "      <td>05MAY2015:00:00:00</td>\n",
       "      <td>17:03:02</td>\n",
       "      <td>285.0</td>\n",
       "      <td>27447333</td>\n",
       "      <td>0</td>\n",
       "      <td>40.98648</td>\n",
       "      <td>28.78267</td>\n",
       "      <td>31</td>\n",
       "      <td>1.0</td>\n",
       "      <td>0.0</td>\n",
       "      <td>0.0</td>\n",
       "      <td>0.0</td>\n",
       "      <td>1.0</td>\n",
       "    </tr>\n",
       "    <tr>\n",
       "      <th>5604799</th>\n",
       "      <td>22580054</td>\n",
       "      <td>23DEC2014:00:00:00</td>\n",
       "      <td>13:37:10</td>\n",
       "      <td>150.0</td>\n",
       "      <td>27447333</td>\n",
       "      <td>0</td>\n",
       "      <td>40.98648</td>\n",
       "      <td>28.78267</td>\n",
       "      <td>31</td>\n",
       "      <td>1.0</td>\n",
       "      <td>0.0</td>\n",
       "      <td>0.0</td>\n",
       "      <td>0.0</td>\n",
       "      <td>1.0</td>\n",
       "    </tr>\n",
       "    <tr>\n",
       "      <th>5604800</th>\n",
       "      <td>18918853</td>\n",
       "      <td>23DEC2014:00:00:00</td>\n",
       "      <td>13:36:14</td>\n",
       "      <td>465.0</td>\n",
       "      <td>27447333</td>\n",
       "      <td>0</td>\n",
       "      <td>40.98648</td>\n",
       "      <td>28.78267</td>\n",
       "      <td>31</td>\n",
       "      <td>1.0</td>\n",
       "      <td>0.0</td>\n",
       "      <td>0.0</td>\n",
       "      <td>0.0</td>\n",
       "      <td>1.0</td>\n",
       "    </tr>\n",
       "  </tbody>\n",
       "</table>\n",
       "</div>"
      ],
      "text/plain": [
       "         customer_id          Trans_date Trans_time  Trans_tot_amount  \\\n",
       "5604796     14490698  14FEB2015:00:00:00   13:09:13              20.0   \n",
       "5604797     18918853  07NOV2014:00:00:00   13:48:10             390.0   \n",
       "5604798     18918853  05MAY2015:00:00:00   17:03:02             285.0   \n",
       "5604799     22580054  23DEC2014:00:00:00   13:37:10             150.0   \n",
       "5604800     18918853  23DEC2014:00:00:00   13:36:14             465.0   \n",
       "\n",
       "         merchant_id  Online_payment  Merch_loc_X  Merch_loc_Y  Spending_enc  \\\n",
       "5604796     27447333               0     40.98648     28.78267            31   \n",
       "5604797     27447333               0     40.98648     28.78267            31   \n",
       "5604798     27447333               0     40.98648     28.78267            31   \n",
       "5604799     27447333               0     40.98648     28.78267            31   \n",
       "5604800     27447333               0     40.98648     28.78267            31   \n",
       "\n",
       "         Trans_type_AV  Trans_type_nan  Trans_currency_AMERIKAN_DOLARI  \\\n",
       "5604796            1.0             0.0                             0.0   \n",
       "5604797            1.0             0.0                             0.0   \n",
       "5604798            1.0             0.0                             0.0   \n",
       "5604799            1.0             0.0                             0.0   \n",
       "5604800            1.0             0.0                             0.0   \n",
       "\n",
       "         Trans_currency_EURO  Trans_currency_TURK_LIRASI  \n",
       "5604796                  0.0                         1.0  \n",
       "5604797                  0.0                         1.0  \n",
       "5604798                  0.0                         1.0  \n",
       "5604799                  0.0                         1.0  \n",
       "5604800                  0.0                         1.0  "
      ]
     },
     "execution_count": 53,
     "metadata": {},
     "output_type": "execute_result"
    }
   ],
   "source": [
    "trans.head()"
   ]
  },
  {
   "cell_type": "code",
   "execution_count": 64,
   "metadata": {},
   "outputs": [],
   "source": [
    "#trans = trans.drop(['Trans_time'],axis=1)\n",
    "trans = trans.drop(['Trans_date'],axis=1)"
   ]
  },
  {
   "cell_type": "code",
   "execution_count": 48,
   "metadata": {},
   "outputs": [],
   "source": [
    "anyna = trans.isna().any()"
   ]
  },
  {
   "cell_type": "code",
   "execution_count": 50,
   "metadata": {},
   "outputs": [
    {
     "data": {
      "text/plain": [
       "5.155948581948911"
      ]
     },
     "execution_count": 50,
     "metadata": {},
     "output_type": "execute_result"
    }
   ],
   "source": [
    "trans['Merch_loc_Y'].isna().sum()/trans['Merch_loc_Y'].sum()*100"
   ]
  },
  {
   "cell_type": "markdown",
   "metadata": {},
   "source": [
    "3-5% na vals"
   ]
  },
  {
   "cell_type": "code",
   "execution_count": 51,
   "metadata": {},
   "outputs": [],
   "source": [
    "trans = trans.dropna()\n"
   ]
  },
  {
   "cell_type": "code",
   "execution_count": 65,
   "metadata": {},
   "outputs": [
    {
     "data": {
      "text/plain": [
       "9.57039904206579e+21"
      ]
     },
     "execution_count": 65,
     "metadata": {},
     "output_type": "execute_result"
    }
   ],
   "source": [
    "from sklearn.cluster import KMeans\n",
    "X = trans.to_numpy()\n",
    "kmeans_per_k = [KMeans(n_clusters=k, random_state=42).fit(X)\n",
    "                for k in range(1, 10)]\n",
    "inertias = [model.inertia_ for model in kmeans_per_k]\n",
    "max(inertias)"
   ]
  },
  {
   "cell_type": "code",
   "execution_count": 66,
   "metadata": {},
   "outputs": [
    {
     "data": {
      "image/png": "[encoded data removed]",
      "text/plain": [
       "<Figure size 576x252 with 1 Axes>"
      ]
     },
     "metadata": {
      "needs_background": "light"
     },
     "output_type": "display_data"
    }
   ],
   "source": [
    "plt.figure(figsize=(8, 3.5))\n",
    "plt.plot(range(1, 10), inertias, \"bo-\")\n",
    "plt.xlabel(\"$k$\", fontsize=14)\n",
    "plt.ylabel(\"Inertia\", fontsize=14)\n",
    "plt.axis([1, 10.5,10 , 9.57039904206579e+21])\n",
    "plt.show()"
   ]
  },
  {
   "cell_type": "code",
   "execution_count": 67,
   "metadata": {},
   "outputs": [
    {
     "name": "stdout",
     "output_type": "stream",
     "text": [
      "[0 0 0 ... 3 3 3]\n",
      "7.237375243351223e+20\n"
     ]
    }
   ],
   "source": [
    "k=4\n",
    "kmeans = KMeans(n_clusters=k, random_state=42)\n",
    "kmeans.fit_predict(X)\n",
    "print(kmeans.labels_)\n",
    "print(kmeans.inertia_)"
   ]
  },
  {
   "cell_type": "markdown",
   "metadata": {},
   "source": [
    "all good to see that it is working with the same number of dems now just need to fix the date col and try to merge data sets. "
   ]
  },
  {
   "cell_type": "code",
   "execution_count": null,
   "metadata": {},
   "outputs": [],
   "source": [
    "demos = demos.drop([])"
   ]
  }
 ],
 "metadata": {
  "interpreter": {
   "hash": "b21cc730d1c18d8167462c33c317c05a9b268ba3652b6f926a81f75f3a592e5b"
  },
  "kernelspec": {
   "display_name": "Python 3.8.12 ('AppliedMachineLearning')",
   "language": "python",
   "name": "python3"
  },
  "language_info": {
   "codemirror_mode": {
    "name": "ipython",
    "version": 3
   },
   "file_extension": ".py",
   "mimetype": "text/x-python",
   "name": "python",
   "nbconvert_exporter": "python",
   "pygments_lexer": "ipython3",
   "version": "3.8.12"
  },
  "orig_nbformat": 4
 },
 "nbformat": 4,
 "nbformat_minor": 2
}
